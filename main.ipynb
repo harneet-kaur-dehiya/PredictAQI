{
 "cells": [
  {
   "cell_type": "code",
   "execution_count": 1,
   "metadata": {},
   "outputs": [
    {
     "data": {
      "text/html": [
       "<div>\n",
       "<style scoped>\n",
       "    .dataframe tbody tr th:only-of-type {\n",
       "        vertical-align: middle;\n",
       "    }\n",
       "\n",
       "    .dataframe tbody tr th {\n",
       "        vertical-align: top;\n",
       "    }\n",
       "\n",
       "    .dataframe thead th {\n",
       "        text-align: right;\n",
       "    }\n",
       "</style>\n",
       "<table border=\"1\" class=\"dataframe\">\n",
       "  <thead>\n",
       "    <tr style=\"text-align: right;\">\n",
       "      <th></th>\n",
       "      <th>PM2.5</th>\n",
       "      <th>PM10</th>\n",
       "      <th>NO2</th>\n",
       "      <th>CO</th>\n",
       "      <th>SO2</th>\n",
       "      <th>O3</th>\n",
       "      <th>AQI</th>\n",
       "    </tr>\n",
       "  </thead>\n",
       "  <tbody>\n",
       "    <tr>\n",
       "      <th>0</th>\n",
       "      <td>71.36</td>\n",
       "      <td>115.75</td>\n",
       "      <td>20.65</td>\n",
       "      <td>0.10</td>\n",
       "      <td>10.76</td>\n",
       "      <td>109.26</td>\n",
       "      <td>NaN</td>\n",
       "    </tr>\n",
       "    <tr>\n",
       "      <th>1</th>\n",
       "      <td>81.40</td>\n",
       "      <td>124.50</td>\n",
       "      <td>20.50</td>\n",
       "      <td>0.12</td>\n",
       "      <td>15.24</td>\n",
       "      <td>127.09</td>\n",
       "      <td>184.0</td>\n",
       "    </tr>\n",
       "    <tr>\n",
       "      <th>2</th>\n",
       "      <td>78.32</td>\n",
       "      <td>129.06</td>\n",
       "      <td>26.00</td>\n",
       "      <td>0.14</td>\n",
       "      <td>26.96</td>\n",
       "      <td>117.44</td>\n",
       "      <td>197.0</td>\n",
       "    </tr>\n",
       "    <tr>\n",
       "      <th>3</th>\n",
       "      <td>88.76</td>\n",
       "      <td>135.32</td>\n",
       "      <td>30.85</td>\n",
       "      <td>0.11</td>\n",
       "      <td>33.59</td>\n",
       "      <td>111.81</td>\n",
       "      <td>198.0</td>\n",
       "    </tr>\n",
       "    <tr>\n",
       "      <th>4</th>\n",
       "      <td>64.18</td>\n",
       "      <td>104.09</td>\n",
       "      <td>28.07</td>\n",
       "      <td>0.09</td>\n",
       "      <td>19.00</td>\n",
       "      <td>138.18</td>\n",
       "      <td>188.0</td>\n",
       "    </tr>\n",
       "  </tbody>\n",
       "</table>\n",
       "</div>"
      ],
      "text/plain": [
       "   PM2.5    PM10    NO2    CO    SO2      O3    AQI\n",
       "0  71.36  115.75  20.65  0.10  10.76  109.26    NaN\n",
       "1  81.40  124.50  20.50  0.12  15.24  127.09  184.0\n",
       "2  78.32  129.06  26.00  0.14  26.96  117.44  197.0\n",
       "3  88.76  135.32  30.85  0.11  33.59  111.81  198.0\n",
       "4  64.18  104.09  28.07  0.09  19.00  138.18  188.0"
      ]
     },
     "execution_count": 1,
     "metadata": {},
     "output_type": "execute_result"
    }
   ],
   "source": [
    "# importing pandas for data frame, numpy for reshape\n",
    "import pandas as pd\n",
    "import numpy as np\n",
    "  \n",
    "# loading dataset and storing in train variable\n",
    "train=pd.read_csv('station_day.csv')\n",
    "  \n",
    "# display top 5 data\n",
    "train.head()"
   ]
  },
  {
   "cell_type": "code",
   "execution_count": 2,
   "metadata": {},
   "outputs": [
    {
     "data": {
      "text/html": [
       "<div>\n",
       "<style scoped>\n",
       "    .dataframe tbody tr th:only-of-type {\n",
       "        vertical-align: middle;\n",
       "    }\n",
       "\n",
       "    .dataframe tbody tr th {\n",
       "        vertical-align: top;\n",
       "    }\n",
       "\n",
       "    .dataframe thead th {\n",
       "        text-align: right;\n",
       "    }\n",
       "</style>\n",
       "<table border=\"1\" class=\"dataframe\">\n",
       "  <thead>\n",
       "    <tr style=\"text-align: right;\">\n",
       "      <th></th>\n",
       "      <th>PM2.5</th>\n",
       "      <th>PM10</th>\n",
       "      <th>NO2</th>\n",
       "      <th>CO</th>\n",
       "      <th>SO2</th>\n",
       "      <th>O3</th>\n",
       "      <th>AQI</th>\n",
       "    </tr>\n",
       "  </thead>\n",
       "  <tbody>\n",
       "    <tr>\n",
       "      <th>1</th>\n",
       "      <td>81.40</td>\n",
       "      <td>124.50</td>\n",
       "      <td>20.50</td>\n",
       "      <td>0.12</td>\n",
       "      <td>15.24</td>\n",
       "      <td>127.09</td>\n",
       "      <td>184.0</td>\n",
       "    </tr>\n",
       "    <tr>\n",
       "      <th>2</th>\n",
       "      <td>78.32</td>\n",
       "      <td>129.06</td>\n",
       "      <td>26.00</td>\n",
       "      <td>0.14</td>\n",
       "      <td>26.96</td>\n",
       "      <td>117.44</td>\n",
       "      <td>197.0</td>\n",
       "    </tr>\n",
       "    <tr>\n",
       "      <th>3</th>\n",
       "      <td>88.76</td>\n",
       "      <td>135.32</td>\n",
       "      <td>30.85</td>\n",
       "      <td>0.11</td>\n",
       "      <td>33.59</td>\n",
       "      <td>111.81</td>\n",
       "      <td>198.0</td>\n",
       "    </tr>\n",
       "    <tr>\n",
       "      <th>4</th>\n",
       "      <td>64.18</td>\n",
       "      <td>104.09</td>\n",
       "      <td>28.07</td>\n",
       "      <td>0.09</td>\n",
       "      <td>19.00</td>\n",
       "      <td>138.18</td>\n",
       "      <td>188.0</td>\n",
       "    </tr>\n",
       "    <tr>\n",
       "      <th>5</th>\n",
       "      <td>72.47</td>\n",
       "      <td>114.84</td>\n",
       "      <td>23.20</td>\n",
       "      <td>0.16</td>\n",
       "      <td>10.55</td>\n",
       "      <td>109.74</td>\n",
       "      <td>173.0</td>\n",
       "    </tr>\n",
       "  </tbody>\n",
       "</table>\n",
       "</div>"
      ],
      "text/plain": [
       "   PM2.5    PM10    NO2    CO    SO2      O3    AQI\n",
       "1  81.40  124.50  20.50  0.12  15.24  127.09  184.0\n",
       "2  78.32  129.06  26.00  0.14  26.96  117.44  197.0\n",
       "3  88.76  135.32  30.85  0.11  33.59  111.81  198.0\n",
       "4  64.18  104.09  28.07  0.09  19.00  138.18  188.0\n",
       "5  72.47  114.84  23.20  0.16  10.55  109.74  173.0"
      ]
     },
     "execution_count": 2,
     "metadata": {},
     "output_type": "execute_result"
    }
   ],
   "source": [
    "#cleaning the datatset\n",
    "df = pd.DataFrame(train)\n",
    "train=df.dropna()\n",
    "train.head()"
   ]
  },
  {
   "cell_type": "code",
   "execution_count": 3,
   "metadata": {},
   "outputs": [],
   "source": [
    "#define function that will classify AQI according to the six levels\n",
    "def classify(aqi):\n",
    "    if aqi<=50:\n",
    "        print(\"Air Quality : Good\\nAir Quality is satisfactory, and air pollution poses little or no risk.\")\n",
    "    elif aqi<=100:\n",
    "        print(\"Air Quality : Moderate\\nAir quality is acceptable. \\nHowever, there may be a risk for some people, particularly those who are unusually sensitive to air pollution.\")\n",
    "    elif aqi<=150:\n",
    "        print(\"Air Quality : Unhealthy for sensitive groups\\nMembers of sensitive groups may experience health effects. \\nThe general public is less likely to be affected.\")\n",
    "    elif aqi<=200:\n",
    "        print(\"Air Quality : Unhealthy\\nSome members of the general public may experience health effects; \\nmembers of sensitive groups may experience more serious health effects.\")\n",
    "    elif aqi<=300:\n",
    "        print(\"Air Quality : Very Unhealthy\\nHealth alert: The risk of health effects is increased for everyone.\")\n",
    "    else:\n",
    "        print(\"Air Quality : Hazardous\\nHealth warning of emergency conditions: everyone is more likely to be affected.\")"
   ]
  },
  {
   "cell_type": "code",
   "execution_count": 4,
   "metadata": {},
   "outputs": [
    {
     "name": "stdout",
     "output_type": "stream",
     "text": [
      "189.8\n",
      "Air Quality : Unhealthy\n",
      "Some members of the general public may experience health effects; \n",
      "members of sensitive groups may experience more serious health effects.\n"
     ]
    }
   ],
   "source": [
    "# RandomForest model\n",
    "# importing Randomforest\n",
    "from sklearn.ensemble import RandomForestRegressor\n",
    "\n",
    "# defining model\n",
    "m1 = RandomForestRegressor()\n",
    "  \n",
    "# seperating class label and other attributes\n",
    "train1 = train.drop(['AQI'], axis=1)\n",
    "target = train['AQI']\n",
    "  \n",
    "# Fitting the model\n",
    "m1.fit(train1, target)\n",
    "  \n",
    "# predicting with other values (testing the data)\n",
    "# so AQI is 184\n",
    "aqi1=m1.predict([[81.4, 124.5, 20.5, 0.12, 15.24, 127.09]])\n",
    "print(aqi1[0])\n",
    "classify(aqi1[0])"
   ]
  },
  {
   "cell_type": "code",
   "execution_count": 5,
   "metadata": {},
   "outputs": [
    {
     "name": "stdout",
     "output_type": "stream",
     "text": [
      "205.33019411877763\n",
      "Air Quality : Very Unhealthy\n",
      "Health alert: The risk of health effects is increased for everyone.\n"
     ]
    }
   ],
   "source": [
    "# Adaboost model\n",
    "# importing module\n",
    "from sklearn.ensemble import AdaBoostRegressor\n",
    "\n",
    "# defining model\n",
    "m2 = AdaBoostRegressor()\n",
    "  \n",
    "# Fitting the model\n",
    "m2.fit(train1, target)\n",
    "  \n",
    "# predicting the model with other values (testing the data)\n",
    "# so AQI is 184\n",
    "aqi2=m2.predict([[81.4, 124.5, 20.5, 0.12, 15.24, 127.09]])\n",
    "print(aqi2[0])\n",
    "classify(aqi2[0])"
   ]
  },
  {
   "cell_type": "code",
   "execution_count": 18,
   "metadata": {},
   "outputs": [
    {
     "name": "stdout",
     "output_type": "stream",
     "text": [
      "Enter PM2.5 value: 21\n",
      "Enter PM10 value: 11\n",
      "Enter NO2 value: 1\n",
      "Enter CO value: 0.2\n",
      "Enter SO2 value: 1\n",
      "Enter O3 value: 0\n",
      "[21.0, 11.0, 1.0, 0.2, 1.0, 0.0]\n"
     ]
    }
   ],
   "source": [
    "#taking values from user and predicted the AQI\n",
    "val=[None]*6\n",
    "val[0]=float(input(\"Enter PM2.5 value: \"))\n",
    "val[1]=float(input(\"Enter PM10 value: \"))\n",
    "val[2]=float(input(\"Enter NO2 value: \"))\n",
    "val[3]=float(input(\"Enter CO value: \"))\n",
    "val[4]=float(input(\"Enter SO2 value: \"))\n",
    "val[5]=float(input(\"Enter O3 value: \"))\n",
    "print(val)"
   ]
  },
  {
   "cell_type": "code",
   "execution_count": 19,
   "metadata": {},
   "outputs": [
    {
     "name": "stdout",
     "output_type": "stream",
     "text": [
      "29.19\n",
      "Air Quality : Good\n",
      "Air Quality is satisfactory, and air pollution poses little or no risk.\n"
     ]
    }
   ],
   "source": [
    "#predicting AQI using RandomForest model\n",
    "predict1=m1.predict(np.array(val).reshape(1,-1))\n",
    "print(predict1[0])\n",
    "classify(predict1[0])"
   ]
  },
  {
   "cell_type": "code",
   "execution_count": 20,
   "metadata": {},
   "outputs": [
    {
     "name": "stdout",
     "output_type": "stream",
     "text": [
      "110.46968893601979\n",
      "Air Quality : Unhealthy for sensitive groups\n",
      "Members of sensitive groups may experience health effects. \n",
      "The general public is less likely to be affected.\n"
     ]
    }
   ],
   "source": [
    "#predicting AQI using AdaBoost model\n",
    "predict2=m2.predict(np.array(val).reshape(1,-1))  \n",
    "print(predict2[0])\n",
    "classify(predict2[0])"
   ]
  },
  {
   "cell_type": "code",
   "execution_count": 21,
   "metadata": {},
   "outputs": [],
   "source": [
    "a1=([[200,366,11,1.4,37,26]])"
   ]
  },
  {
   "cell_type": "code",
   "execution_count": 22,
   "metadata": {},
   "outputs": [
    {
     "name": "stdout",
     "output_type": "stream",
     "text": [
      "393.74\n",
      "Air Quality : Hazardous\n",
      "Health warning of emergency conditions: everyone is more likely to be affected.\n"
     ]
    }
   ],
   "source": [
    "predict1=m1.predict(a1)\n",
    "print(predict1[0])\n",
    "classify(predict1[0])"
   ]
  },
  {
   "cell_type": "code",
   "execution_count": 23,
   "metadata": {},
   "outputs": [
    {
     "name": "stdout",
     "output_type": "stream",
     "text": [
      "370.9430548163917\n",
      "Air Quality : Hazardous\n",
      "Health warning of emergency conditions: everyone is more likely to be affected.\n"
     ]
    }
   ],
   "source": [
    "predict2=m2.predict(a1)  \n",
    "print(predict2[0])\n",
    "classify(predict2[0])"
   ]
  },
  {
   "cell_type": "code",
   "execution_count": null,
   "metadata": {},
   "outputs": [],
   "source": []
  }
 ],
 "metadata": {
  "kernelspec": {
   "display_name": "Python 3",
   "language": "python",
   "name": "python3"
  },
  "language_info": {
   "codemirror_mode": {
    "name": "ipython",
    "version": 3
   },
   "file_extension": ".py",
   "mimetype": "text/x-python",
   "name": "python",
   "nbconvert_exporter": "python",
   "pygments_lexer": "ipython3",
   "version": "3.7.6"
  }
 },
 "nbformat": 4,
 "nbformat_minor": 4
}
